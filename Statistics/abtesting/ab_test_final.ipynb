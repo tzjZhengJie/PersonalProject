{
 "cells": [
  {
   "cell_type": "code",
   "execution_count": 1,
   "metadata": {},
   "outputs": [],
   "source": [
    "import pandas as pd\n",
    "import numpy as np\n",
    "import matplotlib.pyplot as plt\n",
    "import seaborn as sns\n"
   ]
  },
  {
   "cell_type": "code",
   "execution_count": 2,
   "metadata": {},
   "outputs": [
    {
     "data": {
      "text/html": [
       "<div>\n",
       "<style scoped>\n",
       "    .dataframe tbody tr th:only-of-type {\n",
       "        vertical-align: middle;\n",
       "    }\n",
       "\n",
       "    .dataframe tbody tr th {\n",
       "        vertical-align: top;\n",
       "    }\n",
       "\n",
       "    .dataframe thead th {\n",
       "        text-align: right;\n",
       "    }\n",
       "</style>\n",
       "<table border=\"1\" class=\"dataframe\">\n",
       "  <thead>\n",
       "    <tr style=\"text-align: right;\">\n",
       "      <th></th>\n",
       "      <th>Unnamed: 0</th>\n",
       "      <th>user id</th>\n",
       "      <th>test group</th>\n",
       "      <th>converted</th>\n",
       "      <th>total ads</th>\n",
       "      <th>most ads day</th>\n",
       "      <th>most ads hour</th>\n",
       "    </tr>\n",
       "  </thead>\n",
       "  <tbody>\n",
       "    <tr>\n",
       "      <th>0</th>\n",
       "      <td>0</td>\n",
       "      <td>1069124</td>\n",
       "      <td>ad</td>\n",
       "      <td>False</td>\n",
       "      <td>130</td>\n",
       "      <td>Monday</td>\n",
       "      <td>20</td>\n",
       "    </tr>\n",
       "    <tr>\n",
       "      <th>1</th>\n",
       "      <td>1</td>\n",
       "      <td>1119715</td>\n",
       "      <td>ad</td>\n",
       "      <td>False</td>\n",
       "      <td>93</td>\n",
       "      <td>Tuesday</td>\n",
       "      <td>22</td>\n",
       "    </tr>\n",
       "    <tr>\n",
       "      <th>2</th>\n",
       "      <td>2</td>\n",
       "      <td>1144181</td>\n",
       "      <td>ad</td>\n",
       "      <td>False</td>\n",
       "      <td>21</td>\n",
       "      <td>Tuesday</td>\n",
       "      <td>18</td>\n",
       "    </tr>\n",
       "    <tr>\n",
       "      <th>3</th>\n",
       "      <td>3</td>\n",
       "      <td>1435133</td>\n",
       "      <td>ad</td>\n",
       "      <td>False</td>\n",
       "      <td>355</td>\n",
       "      <td>Tuesday</td>\n",
       "      <td>10</td>\n",
       "    </tr>\n",
       "    <tr>\n",
       "      <th>4</th>\n",
       "      <td>4</td>\n",
       "      <td>1015700</td>\n",
       "      <td>ad</td>\n",
       "      <td>False</td>\n",
       "      <td>276</td>\n",
       "      <td>Friday</td>\n",
       "      <td>14</td>\n",
       "    </tr>\n",
       "  </tbody>\n",
       "</table>\n",
       "</div>"
      ],
      "text/plain": [
       "   Unnamed: 0  user id test group  converted  total ads most ads day  \\\n",
       "0           0  1069124         ad      False        130       Monday   \n",
       "1           1  1119715         ad      False         93      Tuesday   \n",
       "2           2  1144181         ad      False         21      Tuesday   \n",
       "3           3  1435133         ad      False        355      Tuesday   \n",
       "4           4  1015700         ad      False        276       Friday   \n",
       "\n",
       "   most ads hour  \n",
       "0             20  \n",
       "1             22  \n",
       "2             18  \n",
       "3             10  \n",
       "4             14  "
      ]
     },
     "execution_count": 2,
     "metadata": {},
     "output_type": "execute_result"
    }
   ],
   "source": [
    "df = pd.read_csv('marketing_AB.csv')\n",
    "df.head()"
   ]
  },
  {
   "cell_type": "code",
   "execution_count": 3,
   "metadata": {},
   "outputs": [
    {
     "name": "stdout",
     "output_type": "stream",
     "text": [
      "<class 'pandas.core.frame.DataFrame'>\n",
      "RangeIndex: 588101 entries, 0 to 588100\n",
      "Data columns (total 7 columns):\n",
      " #   Column         Non-Null Count   Dtype \n",
      "---  ------         --------------   ----- \n",
      " 0   Unnamed: 0     588101 non-null  int64 \n",
      " 1   user id        588101 non-null  int64 \n",
      " 2   test group     588101 non-null  object\n",
      " 3   converted      588101 non-null  bool  \n",
      " 4   total ads      588101 non-null  int64 \n",
      " 5   most ads day   588101 non-null  object\n",
      " 6   most ads hour  588101 non-null  int64 \n",
      "dtypes: bool(1), int64(4), object(2)\n",
      "memory usage: 27.5+ MB\n"
     ]
    }
   ],
   "source": [
    "df.info()"
   ]
  },
  {
   "cell_type": "markdown",
   "metadata": {},
   "source": [
    "# EDA"
   ]
  },
  {
   "cell_type": "code",
   "execution_count": 4,
   "metadata": {},
   "outputs": [
    {
     "data": {
      "text/plain": [
       "0"
      ]
     },
     "execution_count": 4,
     "metadata": {},
     "output_type": "execute_result"
    }
   ],
   "source": [
    "df.duplicated(subset=\"user id\").sum()"
   ]
  },
  {
   "cell_type": "code",
   "execution_count": 5,
   "metadata": {},
   "outputs": [
    {
     "data": {
      "text/plain": [
       "Unnamed: 0       0\n",
       "user id          0\n",
       "test group       0\n",
       "converted        0\n",
       "total ads        0\n",
       "most ads day     0\n",
       "most ads hour    0\n",
       "dtype: int64"
      ]
     },
     "execution_count": 5,
     "metadata": {},
     "output_type": "execute_result"
    }
   ],
   "source": [
    "df.isnull().sum()"
   ]
  },
  {
   "cell_type": "code",
   "execution_count": 6,
   "metadata": {},
   "outputs": [
    {
     "data": {
      "text/html": [
       "<div>\n",
       "<style scoped>\n",
       "    .dataframe tbody tr th:only-of-type {\n",
       "        vertical-align: middle;\n",
       "    }\n",
       "\n",
       "    .dataframe tbody tr th {\n",
       "        vertical-align: top;\n",
       "    }\n",
       "\n",
       "    .dataframe thead th {\n",
       "        text-align: right;\n",
       "    }\n",
       "</style>\n",
       "<table border=\"1\" class=\"dataframe\">\n",
       "  <thead>\n",
       "    <tr style=\"text-align: right;\">\n",
       "      <th></th>\n",
       "      <th>test group</th>\n",
       "      <th>converted</th>\n",
       "      <th>total ads</th>\n",
       "      <th>most ads day</th>\n",
       "      <th>most ads hour</th>\n",
       "    </tr>\n",
       "  </thead>\n",
       "  <tbody>\n",
       "    <tr>\n",
       "      <th>0</th>\n",
       "      <td>ad</td>\n",
       "      <td>False</td>\n",
       "      <td>130</td>\n",
       "      <td>Monday</td>\n",
       "      <td>20</td>\n",
       "    </tr>\n",
       "    <tr>\n",
       "      <th>1</th>\n",
       "      <td>ad</td>\n",
       "      <td>False</td>\n",
       "      <td>93</td>\n",
       "      <td>Tuesday</td>\n",
       "      <td>22</td>\n",
       "    </tr>\n",
       "    <tr>\n",
       "      <th>2</th>\n",
       "      <td>ad</td>\n",
       "      <td>False</td>\n",
       "      <td>21</td>\n",
       "      <td>Tuesday</td>\n",
       "      <td>18</td>\n",
       "    </tr>\n",
       "    <tr>\n",
       "      <th>3</th>\n",
       "      <td>ad</td>\n",
       "      <td>False</td>\n",
       "      <td>355</td>\n",
       "      <td>Tuesday</td>\n",
       "      <td>10</td>\n",
       "    </tr>\n",
       "    <tr>\n",
       "      <th>4</th>\n",
       "      <td>ad</td>\n",
       "      <td>False</td>\n",
       "      <td>276</td>\n",
       "      <td>Friday</td>\n",
       "      <td>14</td>\n",
       "    </tr>\n",
       "  </tbody>\n",
       "</table>\n",
       "</div>"
      ],
      "text/plain": [
       "  test group  converted  total ads most ads day  most ads hour\n",
       "0         ad      False        130       Monday             20\n",
       "1         ad      False         93      Tuesday             22\n",
       "2         ad      False         21      Tuesday             18\n",
       "3         ad      False        355      Tuesday             10\n",
       "4         ad      False        276       Friday             14"
      ]
     },
     "execution_count": 6,
     "metadata": {},
     "output_type": "execute_result"
    }
   ],
   "source": [
    "df_clean = df.drop(['Unnamed: 0', 'user id'], axis=1)\n",
    "df_clean.head()"
   ]
  },
  {
   "cell_type": "code",
   "execution_count": 7,
   "metadata": {},
   "outputs": [],
   "source": [
    "import scipy.stats as stats\n",
    "import warnings\n",
    "warnings.filterwarnings('ignore')"
   ]
  },
  {
   "cell_type": "code",
   "execution_count": 8,
   "metadata": {},
   "outputs": [
    {
     "data": {
      "text/html": [
       "<div>\n",
       "<style scoped>\n",
       "    .dataframe tbody tr th:only-of-type {\n",
       "        vertical-align: middle;\n",
       "    }\n",
       "\n",
       "    .dataframe tbody tr th {\n",
       "        vertical-align: top;\n",
       "    }\n",
       "\n",
       "    .dataframe thead th {\n",
       "        text-align: right;\n",
       "    }\n",
       "</style>\n",
       "<table border=\"1\" class=\"dataframe\">\n",
       "  <thead>\n",
       "    <tr style=\"text-align: right;\">\n",
       "      <th></th>\n",
       "      <th>total ads</th>\n",
       "      <th>most ads hour</th>\n",
       "    </tr>\n",
       "  </thead>\n",
       "  <tbody>\n",
       "    <tr>\n",
       "      <th>0</th>\n",
       "      <td>True</td>\n",
       "      <td>False</td>\n",
       "    </tr>\n",
       "    <tr>\n",
       "      <th>1</th>\n",
       "      <td>True</td>\n",
       "      <td>False</td>\n",
       "    </tr>\n",
       "    <tr>\n",
       "      <th>2</th>\n",
       "      <td>False</td>\n",
       "      <td>False</td>\n",
       "    </tr>\n",
       "    <tr>\n",
       "      <th>3</th>\n",
       "      <td>True</td>\n",
       "      <td>False</td>\n",
       "    </tr>\n",
       "    <tr>\n",
       "      <th>4</th>\n",
       "      <td>True</td>\n",
       "      <td>False</td>\n",
       "    </tr>\n",
       "    <tr>\n",
       "      <th>...</th>\n",
       "      <td>...</td>\n",
       "      <td>...</td>\n",
       "    </tr>\n",
       "    <tr>\n",
       "      <th>588096</th>\n",
       "      <td>False</td>\n",
       "      <td>False</td>\n",
       "    </tr>\n",
       "    <tr>\n",
       "      <th>588097</th>\n",
       "      <td>False</td>\n",
       "      <td>False</td>\n",
       "    </tr>\n",
       "    <tr>\n",
       "      <th>588098</th>\n",
       "      <td>False</td>\n",
       "      <td>False</td>\n",
       "    </tr>\n",
       "    <tr>\n",
       "      <th>588099</th>\n",
       "      <td>False</td>\n",
       "      <td>False</td>\n",
       "    </tr>\n",
       "    <tr>\n",
       "      <th>588100</th>\n",
       "      <td>False</td>\n",
       "      <td>False</td>\n",
       "    </tr>\n",
       "  </tbody>\n",
       "</table>\n",
       "<p>588101 rows × 2 columns</p>\n",
       "</div>"
      ],
      "text/plain": [
       "        total ads  most ads hour\n",
       "0            True          False\n",
       "1            True          False\n",
       "2           False          False\n",
       "3            True          False\n",
       "4            True          False\n",
       "...           ...            ...\n",
       "588096      False          False\n",
       "588097      False          False\n",
       "588098      False          False\n",
       "588099      False          False\n",
       "588100      False          False\n",
       "\n",
       "[588101 rows x 2 columns]"
      ]
     },
     "execution_count": 8,
     "metadata": {},
     "output_type": "execute_result"
    }
   ],
   "source": [
    "numeric_cols = df_clean.select_dtypes(include=[np.number])\n",
    "Q1 = numeric_cols.quantile(0.25)\n",
    "Q3 = numeric_cols.quantile(0.75)\n",
    "\n",
    "IQR = Q3 - Q1\n",
    "\n",
    "# Outliers outside 1.5 * IQR raneg\n",
    "outliers = (numeric_cols < (Q1 - 1.5 * IQR)) | (numeric_cols > (Q3 + 1.5 * IQR))\n",
    "outliers"
   ]
  },
  {
   "cell_type": "code",
   "execution_count": 9,
   "metadata": {},
   "outputs": [
    {
     "data": {
      "text/html": [
       "<div>\n",
       "<style scoped>\n",
       "    .dataframe tbody tr th:only-of-type {\n",
       "        vertical-align: middle;\n",
       "    }\n",
       "\n",
       "    .dataframe tbody tr th {\n",
       "        vertical-align: top;\n",
       "    }\n",
       "\n",
       "    .dataframe thead th {\n",
       "        text-align: right;\n",
       "    }\n",
       "</style>\n",
       "<table border=\"1\" class=\"dataframe\">\n",
       "  <thead>\n",
       "    <tr style=\"text-align: right;\">\n",
       "      <th></th>\n",
       "      <th>test group</th>\n",
       "      <th>converted</th>\n",
       "      <th>total ads</th>\n",
       "      <th>most ads day</th>\n",
       "      <th>most ads hour</th>\n",
       "    </tr>\n",
       "  </thead>\n",
       "  <tbody>\n",
       "    <tr>\n",
       "      <th>0</th>\n",
       "      <td>ad</td>\n",
       "      <td>False</td>\n",
       "      <td>21</td>\n",
       "      <td>Tuesday</td>\n",
       "      <td>18</td>\n",
       "    </tr>\n",
       "    <tr>\n",
       "      <th>1</th>\n",
       "      <td>ad</td>\n",
       "      <td>False</td>\n",
       "      <td>17</td>\n",
       "      <td>Sunday</td>\n",
       "      <td>18</td>\n",
       "    </tr>\n",
       "    <tr>\n",
       "      <th>2</th>\n",
       "      <td>ad</td>\n",
       "      <td>False</td>\n",
       "      <td>21</td>\n",
       "      <td>Tuesday</td>\n",
       "      <td>19</td>\n",
       "    </tr>\n",
       "    <tr>\n",
       "      <th>3</th>\n",
       "      <td>ad</td>\n",
       "      <td>False</td>\n",
       "      <td>47</td>\n",
       "      <td>Wednesday</td>\n",
       "      <td>13</td>\n",
       "    </tr>\n",
       "    <tr>\n",
       "      <th>4</th>\n",
       "      <td>ad</td>\n",
       "      <td>False</td>\n",
       "      <td>61</td>\n",
       "      <td>Tuesday</td>\n",
       "      <td>20</td>\n",
       "    </tr>\n",
       "    <tr>\n",
       "      <th>...</th>\n",
       "      <td>...</td>\n",
       "      <td>...</td>\n",
       "      <td>...</td>\n",
       "      <td>...</td>\n",
       "      <td>...</td>\n",
       "    </tr>\n",
       "    <tr>\n",
       "      <th>530961</th>\n",
       "      <td>ad</td>\n",
       "      <td>False</td>\n",
       "      <td>1</td>\n",
       "      <td>Tuesday</td>\n",
       "      <td>23</td>\n",
       "    </tr>\n",
       "    <tr>\n",
       "      <th>530962</th>\n",
       "      <td>ad</td>\n",
       "      <td>False</td>\n",
       "      <td>1</td>\n",
       "      <td>Tuesday</td>\n",
       "      <td>23</td>\n",
       "    </tr>\n",
       "    <tr>\n",
       "      <th>530963</th>\n",
       "      <td>ad</td>\n",
       "      <td>False</td>\n",
       "      <td>3</td>\n",
       "      <td>Tuesday</td>\n",
       "      <td>23</td>\n",
       "    </tr>\n",
       "    <tr>\n",
       "      <th>530964</th>\n",
       "      <td>ad</td>\n",
       "      <td>False</td>\n",
       "      <td>1</td>\n",
       "      <td>Tuesday</td>\n",
       "      <td>23</td>\n",
       "    </tr>\n",
       "    <tr>\n",
       "      <th>530965</th>\n",
       "      <td>ad</td>\n",
       "      <td>False</td>\n",
       "      <td>1</td>\n",
       "      <td>Tuesday</td>\n",
       "      <td>23</td>\n",
       "    </tr>\n",
       "  </tbody>\n",
       "</table>\n",
       "<p>530966 rows × 5 columns</p>\n",
       "</div>"
      ],
      "text/plain": [
       "       test group  converted  total ads most ads day  most ads hour\n",
       "0              ad      False         21      Tuesday             18\n",
       "1              ad      False         17       Sunday             18\n",
       "2              ad      False         21      Tuesday             19\n",
       "3              ad      False         47    Wednesday             13\n",
       "4              ad      False         61      Tuesday             20\n",
       "...           ...        ...        ...          ...            ...\n",
       "530961         ad      False          1      Tuesday             23\n",
       "530962         ad      False          1      Tuesday             23\n",
       "530963         ad      False          3      Tuesday             23\n",
       "530964         ad      False          1      Tuesday             23\n",
       "530965         ad      False          1      Tuesday             23\n",
       "\n",
       "[530966 rows x 5 columns]"
      ]
     },
     "execution_count": 9,
     "metadata": {},
     "output_type": "execute_result"
    }
   ],
   "source": [
    "df_outliers_clean = df_clean[~outliers.any(axis=1)]\n",
    "df_outliers_clean.reset_index(drop=True, inplace=True)\n",
    "df_outliers_clean"
   ]
  },
  {
   "cell_type": "markdown",
   "metadata": {},
   "source": [
    "#### Variable definition"
   ]
  },
  {
   "cell_type": "code",
   "execution_count": 10,
   "metadata": {},
   "outputs": [],
   "source": [
    "continuous_var = ['total ads','most ads hour']\n",
    "categorical_var = ['test group','converted','most ads day']"
   ]
  },
  {
   "cell_type": "markdown",
   "metadata": {},
   "source": [
    "#### Frequency Table"
   ]
  },
  {
   "cell_type": "code",
   "execution_count": 79,
   "metadata": {},
   "outputs": [
    {
     "name": "stdout",
     "output_type": "stream",
     "text": [
      "Frequency Table for test group\n",
      "ad: Count 509847, Percentages: 96.02%\n",
      "psa: Count 21119, Percentages: 3.98%\n",
      "None\n",
      "Mode =  ad\n",
      "--------------------------------------------------\n",
      "Frequency Table for converted\n",
      "False: Count 523908, Percentages: 98.67%\n",
      "True: Count 7058, Percentages: 1.33%\n",
      "None\n",
      "Mode =  False\n",
      "--------------------------------------------------\n",
      "Frequency Table for most ads day\n",
      "Friday: Count 82874, Percentages: 15.61%\n",
      "Monday: Count 78268, Percentages: 14.74%\n",
      "Sunday: Count 77147, Percentages: 14.53%\n",
      "Thursday: Count 75651, Percentages: 14.25%\n",
      "Saturday: Count 73734, Percentages: 13.89%\n",
      "Wednesday: Count 73099, Percentages: 13.77%\n",
      "Tuesday: Count 70193, Percentages: 13.22%\n",
      "None\n",
      "Mode =  Friday\n",
      "--------------------------------------------------\n"
     ]
    }
   ],
   "source": [
    "def frequency_table(variable):\n",
    "    unique_elements, counts=np.unique(variable.dropna(), return_counts=True)\n",
    "    percentages = (counts/len(variable))*100\n",
    "    value_counts_and_percentages = list(zip(unique_elements, counts, percentages))\n",
    "    sorted_value_counts = sorted(value_counts_and_percentages, key=lambda x: x[2], reverse=True)\n",
    "\n",
    "    for i,j,k in sorted_value_counts:\n",
    "        print(f\"{i}: Count {j}, Percentages: {k:.2f}%\")\n",
    "    return\n",
    "\n",
    "for var in categorical_var:\n",
    "    print(f\"Frequency Table for {var}\")\n",
    "    print(frequency_table(df_outliers_clean[var]))\n",
    "    print(\"Mode = \", df_outliers_clean[var].mode()[0])\n",
    "    print(\"-\"*50)"
   ]
  },
  {
   "cell_type": "markdown",
   "metadata": {},
   "source": [
    "- Skewness indicates the distribution's asymmetry\n",
    "- Kurtosis indicates peakedness \n"
   ]
  },
  {
   "cell_type": "code",
   "execution_count": 97,
   "metadata": {},
   "outputs": [
    {
     "data": {
      "text/html": [
       "<div>\n",
       "<style scoped>\n",
       "    .dataframe tbody tr th:only-of-type {\n",
       "        vertical-align: middle;\n",
       "    }\n",
       "\n",
       "    .dataframe tbody tr th {\n",
       "        vertical-align: top;\n",
       "    }\n",
       "\n",
       "    .dataframe thead th {\n",
       "        text-align: right;\n",
       "    }\n",
       "</style>\n",
       "<table border=\"1\" class=\"dataframe\">\n",
       "  <thead>\n",
       "    <tr style=\"text-align: right;\">\n",
       "      <th></th>\n",
       "      <th>count</th>\n",
       "      <th>mean</th>\n",
       "      <th>std</th>\n",
       "      <th>min</th>\n",
       "      <th>25%</th>\n",
       "      <th>50%</th>\n",
       "      <th>75%</th>\n",
       "      <th>max</th>\n",
       "      <th>skewness</th>\n",
       "      <th>kurtosis</th>\n",
       "      <th>lower_ci</th>\n",
       "      <th>upper_ci</th>\n",
       "    </tr>\n",
       "  </thead>\n",
       "  <tbody>\n",
       "    <tr>\n",
       "      <th>total ads</th>\n",
       "      <td>530966.0</td>\n",
       "      <td>15.143169</td>\n",
       "      <td>14.062835</td>\n",
       "      <td>1.0</td>\n",
       "      <td>4.0</td>\n",
       "      <td>11.0</td>\n",
       "      <td>22.0</td>\n",
       "      <td>61.0</td>\n",
       "      <td>1.205645</td>\n",
       "      <td>0.824961</td>\n",
       "      <td>15.105343</td>\n",
       "      <td>15.180995</td>\n",
       "    </tr>\n",
       "    <tr>\n",
       "      <th>most ads hour</th>\n",
       "      <td>530966.0</td>\n",
       "      <td>14.613625</td>\n",
       "      <td>4.644968</td>\n",
       "      <td>1.0</td>\n",
       "      <td>11.0</td>\n",
       "      <td>14.0</td>\n",
       "      <td>18.0</td>\n",
       "      <td>23.0</td>\n",
       "      <td>-0.181918</td>\n",
       "      <td>-0.200956</td>\n",
       "      <td>14.601131</td>\n",
       "      <td>14.626119</td>\n",
       "    </tr>\n",
       "  </tbody>\n",
       "</table>\n",
       "</div>"
      ],
      "text/plain": [
       "                  count       mean        std  min   25%   50%   75%   max  \\\n",
       "total ads      530966.0  15.143169  14.062835  1.0   4.0  11.0  22.0  61.0   \n",
       "most ads hour  530966.0  14.613625   4.644968  1.0  11.0  14.0  18.0  23.0   \n",
       "\n",
       "               skewness  kurtosis   lower_ci   upper_ci  \n",
       "total ads      1.205645  0.824961  15.105343  15.180995  \n",
       "most ads hour -0.181918 -0.200956  14.601131  14.626119  "
      ]
     },
     "execution_count": 97,
     "metadata": {},
     "output_type": "execute_result"
    }
   ],
   "source": [
    "concatenated_series = pd.concat([\n",
    "    df_outliers_clean[continuous_var].describe().T,\n",
    "    df_outliers_clean[continuous_var].skew().rename('skewness'),\n",
    "    df_outliers_clean[continuous_var].kurtosis().rename('kurtosis')\n",
    "], axis=1)\n",
    "\n",
    "\n",
    "# Adding lower and upper confidence intervals\n",
    "confidence_level = 0.95  # 95% confidence interval\n",
    "\n",
    "for var in continuous_var:\n",
    "    values = df_outliers_clean[var].dropna()\n",
    "    mean = values.mean()\n",
    "    std_error = stats.sem(values)\n",
    "    if std_error != 0:\n",
    "        lower, upper = stats.t.interval(confidence_level, len(values) - 1, loc=mean, scale=std_error)\n",
    "    else:\n",
    "        lower, upper = mean, mean\n",
    "\n",
    "    # Adding lower and upper confidence intervals to the concatenated series\n",
    "    concatenated_series.loc[var, 'lower_ci'] = lower\n",
    "    concatenated_series.loc[var, 'upper_ci'] = upper\n",
    "concatenated_series"
   ]
  },
  {
   "cell_type": "code",
   "execution_count": 94,
   "metadata": {},
   "outputs": [
    {
     "data": {
      "image/png": "[encoded data removed]",
      "text/plain": [
       "<Figure size 1200x500 with 2 Axes>"
      ]
     },
     "metadata": {},
     "output_type": "display_data"
    }
   ],
   "source": [
    "import matplotlib.pyplot as plt\n",
    "\n",
    "df_outliers_clean[continuous_var].hist(bins=23, figsize=(12, 5), edgecolor='black')\n",
    "plt.suptitle(\"Histogram of Cont Var\")\n",
    "plt.show()"
   ]
  },
  {
   "cell_type": "code",
   "execution_count": 103,
   "metadata": {},
   "outputs": [
    {
     "data": {
      "image/png": "[encoded data removed]",
      "text/plain": [
       "<Figure size 1200x500 with 1 Axes>"
      ]
     },
     "metadata": {},
     "output_type": "display_data"
    },
    {
     "data": {
      "image/png": "[encoded data removed]",
      "text/plain": [
       "<Figure size 1200x500 with 1 Axes>"
      ]
     },
     "metadata": {},
     "output_type": "display_data"
    }
   ],
   "source": [
    "import seaborn as sns\n",
    "\n",
    "\n",
    "for variable in continuous_var:\n",
    "    plt.figure(figsize=(12, 5))\n",
    "    plt.subplot(1, 2, 1)\n",
    "    sns.boxplot(x=variable, data=df_outliers_clean)\n",
    "    plt.title(f'Boxplot - {variable}')"
   ]
  },
  {
   "cell_type": "markdown",
   "metadata": {},
   "source": [
    "# Chi-square Test for independence\n"
   ]
  },
  {
   "cell_type": "markdown",
   "metadata": {},
   "source": [
    "## Most ads day"
   ]
  },
  {
   "cell_type": "code",
   "execution_count": 134,
   "metadata": {},
   "outputs": [
    {
     "name": "stdout",
     "output_type": "stream",
     "text": [
      "Contingency Table with Frequencies:\n"
     ]
    },
    {
     "data": {
      "text/html": [
       "<div>\n",
       "<style scoped>\n",
       "    .dataframe tbody tr th:only-of-type {\n",
       "        vertical-align: middle;\n",
       "    }\n",
       "\n",
       "    .dataframe tbody tr th {\n",
       "        vertical-align: top;\n",
       "    }\n",
       "\n",
       "    .dataframe thead th {\n",
       "        text-align: right;\n",
       "    }\n",
       "</style>\n",
       "<table border=\"1\" class=\"dataframe\">\n",
       "  <thead>\n",
       "    <tr style=\"text-align: right;\">\n",
       "      <th>most ads day</th>\n",
       "      <th>Friday</th>\n",
       "      <th>Monday</th>\n",
       "      <th>Saturday</th>\n",
       "      <th>Sunday</th>\n",
       "      <th>Thursday</th>\n",
       "      <th>Tuesday</th>\n",
       "      <th>Wednesday</th>\n",
       "    </tr>\n",
       "    <tr>\n",
       "      <th>converted</th>\n",
       "      <th></th>\n",
       "      <th></th>\n",
       "      <th></th>\n",
       "      <th></th>\n",
       "      <th></th>\n",
       "      <th></th>\n",
       "      <th></th>\n",
       "    </tr>\n",
       "  </thead>\n",
       "  <tbody>\n",
       "    <tr>\n",
       "      <th>False</th>\n",
       "      <td>81899</td>\n",
       "      <td>76905</td>\n",
       "      <td>72946</td>\n",
       "      <td>76134</td>\n",
       "      <td>74779</td>\n",
       "      <td>69096</td>\n",
       "      <td>72149</td>\n",
       "    </tr>\n",
       "    <tr>\n",
       "      <th>True</th>\n",
       "      <td>975</td>\n",
       "      <td>1363</td>\n",
       "      <td>788</td>\n",
       "      <td>1013</td>\n",
       "      <td>872</td>\n",
       "      <td>1097</td>\n",
       "      <td>950</td>\n",
       "    </tr>\n",
       "  </tbody>\n",
       "</table>\n",
       "</div>"
      ],
      "text/plain": [
       "most ads day  Friday  Monday  Saturday  Sunday  Thursday  Tuesday  Wednesday\n",
       "converted                                                                   \n",
       "False          81899   76905     72946   76134     74779    69096      72149\n",
       "True             975    1363       788    1013       872     1097        950"
      ]
     },
     "metadata": {},
     "output_type": "display_data"
    },
    {
     "name": "stdout",
     "output_type": "stream",
     "text": [
      "--------------------------------------------------\n",
      "Contingency Table with Row Percentages:\n"
     ]
    },
    {
     "data": {
      "text/html": [
       "<div>\n",
       "<style scoped>\n",
       "    .dataframe tbody tr th:only-of-type {\n",
       "        vertical-align: middle;\n",
       "    }\n",
       "\n",
       "    .dataframe tbody tr th {\n",
       "        vertical-align: top;\n",
       "    }\n",
       "\n",
       "    .dataframe thead th {\n",
       "        text-align: right;\n",
       "    }\n",
       "</style>\n",
       "<table border=\"1\" class=\"dataframe\">\n",
       "  <thead>\n",
       "    <tr style=\"text-align: right;\">\n",
       "      <th>most ads day</th>\n",
       "      <th>Friday</th>\n",
       "      <th>Monday</th>\n",
       "      <th>Saturday</th>\n",
       "      <th>Sunday</th>\n",
       "      <th>Thursday</th>\n",
       "      <th>Tuesday</th>\n",
       "      <th>Wednesday</th>\n",
       "    </tr>\n",
       "    <tr>\n",
       "      <th>converted</th>\n",
       "      <th></th>\n",
       "      <th></th>\n",
       "      <th></th>\n",
       "      <th></th>\n",
       "      <th></th>\n",
       "      <th></th>\n",
       "      <th></th>\n",
       "    </tr>\n",
       "  </thead>\n",
       "  <tbody>\n",
       "    <tr>\n",
       "      <th>False</th>\n",
       "      <td>15.632325</td>\n",
       "      <td>14.679104</td>\n",
       "      <td>13.923437</td>\n",
       "      <td>14.531941</td>\n",
       "      <td>14.273308</td>\n",
       "      <td>13.188575</td>\n",
       "      <td>13.771311</td>\n",
       "    </tr>\n",
       "    <tr>\n",
       "      <th>True</th>\n",
       "      <td>13.814112</td>\n",
       "      <td>19.311420</td>\n",
       "      <td>11.164636</td>\n",
       "      <td>14.352508</td>\n",
       "      <td>12.354775</td>\n",
       "      <td>15.542647</td>\n",
       "      <td>13.459904</td>\n",
       "    </tr>\n",
       "  </tbody>\n",
       "</table>\n",
       "</div>"
      ],
      "text/plain": [
       "most ads day     Friday     Monday   Saturday     Sunday   Thursday  \\\n",
       "converted                                                             \n",
       "False         15.632325  14.679104  13.923437  14.531941  14.273308   \n",
       "True          13.814112  19.311420  11.164636  14.352508  12.354775   \n",
       "\n",
       "most ads day    Tuesday  Wednesday  \n",
       "converted                           \n",
       "False         13.188575  13.771311  \n",
       "True          15.542647  13.459904  "
      ]
     },
     "metadata": {},
     "output_type": "display_data"
    },
    {
     "name": "stdout",
     "output_type": "stream",
     "text": [
      "--------------------------------------------------\n",
      "Chi2: 202.12793298243886\n",
      "P-value: 6.687035227949662e-41\n",
      "Degrees of Freedom: 6\n",
      "--------------------------------------------------\n",
      "Percentage of cells with expected counts less than 5: 0.00%\n",
      "--------------------------------------------------\n",
      "Residuals:\n"
     ]
    },
    {
     "data": {
      "text/html": [
       "<div>\n",
       "<style scoped>\n",
       "    .dataframe tbody tr th:only-of-type {\n",
       "        vertical-align: middle;\n",
       "    }\n",
       "\n",
       "    .dataframe tbody tr th {\n",
       "        vertical-align: top;\n",
       "    }\n",
       "\n",
       "    .dataframe thead th {\n",
       "        text-align: right;\n",
       "    }\n",
       "</style>\n",
       "<table border=\"1\" class=\"dataframe\">\n",
       "  <thead>\n",
       "    <tr style=\"text-align: right;\">\n",
       "      <th>most ads day</th>\n",
       "      <th>Friday</th>\n",
       "      <th>Monday</th>\n",
       "      <th>Saturday</th>\n",
       "      <th>Sunday</th>\n",
       "      <th>Thursday</th>\n",
       "      <th>Tuesday</th>\n",
       "      <th>Wednesday</th>\n",
       "    </tr>\n",
       "    <tr>\n",
       "      <th>converted</th>\n",
       "      <th></th>\n",
       "      <th></th>\n",
       "      <th></th>\n",
       "      <th></th>\n",
       "      <th></th>\n",
       "      <th></th>\n",
       "      <th></th>\n",
       "    </tr>\n",
       "  </thead>\n",
       "  <tbody>\n",
       "    <tr>\n",
       "      <th>False</th>\n",
       "      <td>126.623629</td>\n",
       "      <td>-322.602792</td>\n",
       "      <td>192.127865</td>\n",
       "      <td>12.496032</td>\n",
       "      <td>133.610073</td>\n",
       "      <td>-163.941774</td>\n",
       "      <td>21.686967</td>\n",
       "    </tr>\n",
       "    <tr>\n",
       "      <th>True</th>\n",
       "      <td>-126.623629</td>\n",
       "      <td>322.602792</td>\n",
       "      <td>-192.127865</td>\n",
       "      <td>-12.496032</td>\n",
       "      <td>-133.610073</td>\n",
       "      <td>163.941774</td>\n",
       "      <td>-21.686967</td>\n",
       "    </tr>\n",
       "  </tbody>\n",
       "</table>\n",
       "</div>"
      ],
      "text/plain": [
       "most ads day      Friday      Monday    Saturday     Sunday    Thursday  \\\n",
       "converted                                                                 \n",
       "False         126.623629 -322.602792  192.127865  12.496032  133.610073   \n",
       "True         -126.623629  322.602792 -192.127865 -12.496032 -133.610073   \n",
       "\n",
       "most ads day     Tuesday  Wednesday  \n",
       "converted                            \n",
       "False        -163.941774  21.686967  \n",
       "True          163.941774 -21.686967  "
      ]
     },
     "metadata": {},
     "output_type": "display_data"
    },
    {
     "name": "stdout",
     "output_type": "stream",
     "text": [
      "--------------------------------------------------\n",
      "Cramér's V: 0.019511012684828473\n"
     ]
    }
   ],
   "source": [
    "#Let us make our contingency table first\n",
    "\n",
    "ct = pd.crosstab(df_outliers_clean['converted'],df_outliers_clean['most ads day'] )\n",
    "print(\"Contingency Table with Frequencies:\")\n",
    "display(ct)\n",
    "print(\"-\"*50)\n",
    "\n",
    "# Row Percentage\n",
    "row_percentages = ct.div(ct.sum(axis=1), axis=0) * 100\n",
    "print(\"Contingency Table with Row Percentages:\")\n",
    "display(row_percentages)\n",
    "print(\"-\"*50)   \n",
    "\n",
    "# Chi-Square Test\n",
    "chi2, p, dof, expected = stats.chi2_contingency(ct)\n",
    "print(f\"Chi2: {chi2}\")\n",
    "print(f\"P-value: {p}\")\n",
    "print(f\"Degrees of Freedom: {dof}\")\n",
    "print(\"-\"*50)\n",
    "\n",
    "# Calculate the percentage of cells with expected counts less than 5\n",
    "percentage_low_expected = (expected < 5).sum().sum() / (expected.shape[0] * expected.shape[1]) * 100\n",
    "print(f\"Percentage of cells with expected counts less than 5: {percentage_low_expected:.2f}%\")\n",
    "print(\"-\"*50)\n",
    "#If there are cells with expected counts less than 5, it indicates that there are not enough observations to reliably estimate the statistical significance of the association between the variables.\n",
    "#This can lead to a higher likelihood of Type I errors (incorrectly rejecting the null hypothesis) or Type II errors (failing to reject the null hypothesis when it should be rejected).\n",
    "\n",
    "# Residuals: Calculates the magnitude and direction of the strength of association\n",
    "# Interpretation:\n",
    "# Positive Residuals: A positive value indicates that the observed count is higher than the expected count. This suggests that there may be a stronger association than expected between the categories.\n",
    "# Negative Residuals: A negative value indicates that the observed count is lower than the expected count. This suggests a weaker association than expected.\n",
    "residuals = ct - expected\n",
    "print(\"Residuals:\")\n",
    "display(residuals)\n",
    "print(\"-\"*50)\n",
    "\n",
    "# Calculate Cramér's V\n",
    "n = ct.sum().sum()  # Total number of observations\n",
    "min_dim = min(ct.shape) - 1  # Minimum dimension minus 1\n",
    "cramers_v = np.sqrt(chi2 / (n * min_dim))  # Cramér's V calculation\n",
    "print(f\"Cramér's V: {cramers_v}\")"
   ]
  },
  {
   "cell_type": "markdown",
   "metadata": {},
   "source": [
    "Interpretation:<br>\n",
    "<div>\n",
    "1. Contingency Table:\n",
    "<li> This table shows count of conversion and non-conversion based on the most frequent day users saw ads.</li><br>\n",
    "2. Row Percentages:\n",
    "<li> Monday has the highest proportion of conversions (19.31%), while Saturday has the lowest (11.16%). Whereas, Friday has the highest non-conversion of (15.6%) while Tuesday has the lowers of (13.18%)</li><br>\n",
    "3. Chi-Squared Test:\n",
    "<li>Chi2: 202.12793298243886\n",
    "<li>P-value: 6.687035227949662e-41\n",
    "<li>Degrees of Freedom: 6\n",
    "<li> Low p-value, lesser than 0.05 signifies a statistical significant association between the day users saw ads and their conversion status.</li><br>\n",
    "4. Residuals:\n",
    "<li>Positive residuals mean that the actual count is higher than the expected count, and negative residuals mean the actual count is lower than expected.</li><br>\n",
    "<li>For example:</li>\n",
    "<li>Monday (True): The positive residual (322.6) means more people converted on Monday than expected.\n",
    "<li>Saturday (True): The negative residual (-192.12) indicates fewer people converted on Saturday than expected.</li><br>\n",
    "5. Conclusion\n",
    "<li>There is association between the day users see the ads and their conversion likelihood. However, cramer's V suggest that this association is relatively weak.\n",
    "<li>Users seeing ads most frequently on Monday tend to convert more, while Saturday seems to have the least conversion.\n",
    "</div>"
   ]
  },
  {
   "cell_type": "markdown",
   "metadata": {},
   "source": [
    "## Most ads hour"
   ]
  },
  {
   "cell_type": "code",
   "execution_count": 118,
   "metadata": {},
   "outputs": [
    {
     "data": {
      "text/html": [
       "<div>\n",
       "<style scoped>\n",
       "    .dataframe tbody tr th:only-of-type {\n",
       "        vertical-align: middle;\n",
       "    }\n",
       "\n",
       "    .dataframe tbody tr th {\n",
       "        vertical-align: top;\n",
       "    }\n",
       "\n",
       "    .dataframe thead th {\n",
       "        text-align: right;\n",
       "    }\n",
       "</style>\n",
       "<table border=\"1\" class=\"dataframe\">\n",
       "  <thead>\n",
       "    <tr style=\"text-align: right;\">\n",
       "      <th></th>\n",
       "      <th>test group</th>\n",
       "      <th>converted</th>\n",
       "      <th>total ads</th>\n",
       "      <th>most ads day</th>\n",
       "      <th>most ads hour</th>\n",
       "      <th>time_slot</th>\n",
       "    </tr>\n",
       "  </thead>\n",
       "  <tbody>\n",
       "    <tr>\n",
       "      <th>0</th>\n",
       "      <td>ad</td>\n",
       "      <td>False</td>\n",
       "      <td>21</td>\n",
       "      <td>Tuesday</td>\n",
       "      <td>18</td>\n",
       "      <td>Evening</td>\n",
       "    </tr>\n",
       "    <tr>\n",
       "      <th>1</th>\n",
       "      <td>ad</td>\n",
       "      <td>False</td>\n",
       "      <td>17</td>\n",
       "      <td>Sunday</td>\n",
       "      <td>18</td>\n",
       "      <td>Evening</td>\n",
       "    </tr>\n",
       "    <tr>\n",
       "      <th>2</th>\n",
       "      <td>ad</td>\n",
       "      <td>False</td>\n",
       "      <td>21</td>\n",
       "      <td>Tuesday</td>\n",
       "      <td>19</td>\n",
       "      <td>Evening</td>\n",
       "    </tr>\n",
       "    <tr>\n",
       "      <th>3</th>\n",
       "      <td>ad</td>\n",
       "      <td>False</td>\n",
       "      <td>47</td>\n",
       "      <td>Wednesday</td>\n",
       "      <td>13</td>\n",
       "      <td>Afternoon</td>\n",
       "    </tr>\n",
       "    <tr>\n",
       "      <th>4</th>\n",
       "      <td>ad</td>\n",
       "      <td>False</td>\n",
       "      <td>61</td>\n",
       "      <td>Tuesday</td>\n",
       "      <td>20</td>\n",
       "      <td>Evening</td>\n",
       "    </tr>\n",
       "    <tr>\n",
       "      <th>...</th>\n",
       "      <td>...</td>\n",
       "      <td>...</td>\n",
       "      <td>...</td>\n",
       "      <td>...</td>\n",
       "      <td>...</td>\n",
       "      <td>...</td>\n",
       "    </tr>\n",
       "    <tr>\n",
       "      <th>530961</th>\n",
       "      <td>ad</td>\n",
       "      <td>False</td>\n",
       "      <td>1</td>\n",
       "      <td>Tuesday</td>\n",
       "      <td>23</td>\n",
       "      <td>Night</td>\n",
       "    </tr>\n",
       "    <tr>\n",
       "      <th>530962</th>\n",
       "      <td>ad</td>\n",
       "      <td>False</td>\n",
       "      <td>1</td>\n",
       "      <td>Tuesday</td>\n",
       "      <td>23</td>\n",
       "      <td>Night</td>\n",
       "    </tr>\n",
       "    <tr>\n",
       "      <th>530963</th>\n",
       "      <td>ad</td>\n",
       "      <td>False</td>\n",
       "      <td>3</td>\n",
       "      <td>Tuesday</td>\n",
       "      <td>23</td>\n",
       "      <td>Night</td>\n",
       "    </tr>\n",
       "    <tr>\n",
       "      <th>530964</th>\n",
       "      <td>ad</td>\n",
       "      <td>False</td>\n",
       "      <td>1</td>\n",
       "      <td>Tuesday</td>\n",
       "      <td>23</td>\n",
       "      <td>Night</td>\n",
       "    </tr>\n",
       "    <tr>\n",
       "      <th>530965</th>\n",
       "      <td>ad</td>\n",
       "      <td>False</td>\n",
       "      <td>1</td>\n",
       "      <td>Tuesday</td>\n",
       "      <td>23</td>\n",
       "      <td>Night</td>\n",
       "    </tr>\n",
       "  </tbody>\n",
       "</table>\n",
       "<p>530966 rows × 6 columns</p>\n",
       "</div>"
      ],
      "text/plain": [
       "       test group  converted  total ads most ads day  most ads hour  time_slot\n",
       "0              ad      False         21      Tuesday             18    Evening\n",
       "1              ad      False         17       Sunday             18    Evening\n",
       "2              ad      False         21      Tuesday             19    Evening\n",
       "3              ad      False         47    Wednesday             13  Afternoon\n",
       "4              ad      False         61      Tuesday             20    Evening\n",
       "...           ...        ...        ...          ...            ...        ...\n",
       "530961         ad      False          1      Tuesday             23      Night\n",
       "530962         ad      False          1      Tuesday             23      Night\n",
       "530963         ad      False          3      Tuesday             23      Night\n",
       "530964         ad      False          1      Tuesday             23      Night\n",
       "530965         ad      False          1      Tuesday             23      Night\n",
       "\n",
       "[530966 rows x 6 columns]"
      ]
     },
     "execution_count": 118,
     "metadata": {},
     "output_type": "execute_result"
    }
   ],
   "source": [
    "def categorize_hour(hour):\n",
    "    if 5 <= hour < 12:\n",
    "        return 'Morning'\n",
    "    elif 12 <= hour < 17:\n",
    "        return 'Afternoon'\n",
    "    elif 17 <= hour < 21:\n",
    "        return 'Evening'\n",
    "    else:   \n",
    "        return 'Night'\n",
    "    \n",
    "df_outliers_clean['time_slot'] = df_outliers_clean['most ads hour'].apply(categorize_hour)\n",
    "df_outliers_clean"
   ]
  },
  {
   "cell_type": "code",
   "execution_count": 133,
   "metadata": {},
   "outputs": [
    {
     "name": "stdout",
     "output_type": "stream",
     "text": [
      "Contingency Table with Frequencies:\n"
     ]
    },
    {
     "data": {
      "text/html": [
       "<div>\n",
       "<style scoped>\n",
       "    .dataframe tbody tr th:only-of-type {\n",
       "        vertical-align: middle;\n",
       "    }\n",
       "\n",
       "    .dataframe tbody tr th {\n",
       "        vertical-align: top;\n",
       "    }\n",
       "\n",
       "    .dataframe thead th {\n",
       "        text-align: right;\n",
       "    }\n",
       "</style>\n",
       "<table border=\"1\" class=\"dataframe\">\n",
       "  <thead>\n",
       "    <tr style=\"text-align: right;\">\n",
       "      <th>time_slot</th>\n",
       "      <th>Afternoon</th>\n",
       "      <th>Evening</th>\n",
       "      <th>Morning</th>\n",
       "      <th>Night</th>\n",
       "    </tr>\n",
       "    <tr>\n",
       "      <th>converted</th>\n",
       "      <th></th>\n",
       "      <th></th>\n",
       "      <th></th>\n",
       "      <th></th>\n",
       "    </tr>\n",
       "  </thead>\n",
       "  <tbody>\n",
       "    <tr>\n",
       "      <th>False</th>\n",
       "      <td>200437</td>\n",
       "      <td>113204</td>\n",
       "      <td>128902</td>\n",
       "      <td>81365</td>\n",
       "    </tr>\n",
       "    <tr>\n",
       "      <th>True</th>\n",
       "      <td>2871</td>\n",
       "      <td>1695</td>\n",
       "      <td>1391</td>\n",
       "      <td>1101</td>\n",
       "    </tr>\n",
       "  </tbody>\n",
       "</table>\n",
       "</div>"
      ],
      "text/plain": [
       "time_slot  Afternoon  Evening  Morning  Night\n",
       "converted                                    \n",
       "False         200437   113204   128902  81365\n",
       "True            2871     1695     1391   1101"
      ]
     },
     "metadata": {},
     "output_type": "display_data"
    },
    {
     "name": "stdout",
     "output_type": "stream",
     "text": [
      "--------------------------------------------------\n",
      "Contingency Table with Row Percentages:\n"
     ]
    },
    {
     "data": {
      "text/html": [
       "<div>\n",
       "<style scoped>\n",
       "    .dataframe tbody tr th:only-of-type {\n",
       "        vertical-align: middle;\n",
       "    }\n",
       "\n",
       "    .dataframe tbody tr th {\n",
       "        vertical-align: top;\n",
       "    }\n",
       "\n",
       "    .dataframe thead th {\n",
       "        text-align: right;\n",
       "    }\n",
       "</style>\n",
       "<table border=\"1\" class=\"dataframe\">\n",
       "  <thead>\n",
       "    <tr style=\"text-align: right;\">\n",
       "      <th>time_slot</th>\n",
       "      <th>Afternoon</th>\n",
       "      <th>Evening</th>\n",
       "      <th>Morning</th>\n",
       "      <th>Night</th>\n",
       "    </tr>\n",
       "    <tr>\n",
       "      <th>converted</th>\n",
       "      <th></th>\n",
       "      <th></th>\n",
       "      <th></th>\n",
       "      <th></th>\n",
       "    </tr>\n",
       "  </thead>\n",
       "  <tbody>\n",
       "    <tr>\n",
       "      <th>False</th>\n",
       "      <td>38.258053</td>\n",
       "      <td>21.607610</td>\n",
       "      <td>24.603938</td>\n",
       "      <td>15.530398</td>\n",
       "    </tr>\n",
       "    <tr>\n",
       "      <th>True</th>\n",
       "      <td>40.677246</td>\n",
       "      <td>24.015302</td>\n",
       "      <td>19.708133</td>\n",
       "      <td>15.599320</td>\n",
       "    </tr>\n",
       "  </tbody>\n",
       "</table>\n",
       "</div>"
      ],
      "text/plain": [
       "time_slot  Afternoon    Evening    Morning      Night\n",
       "converted                                            \n",
       "False      38.258053  21.607610  24.603938  15.530398\n",
       "True       40.677246  24.015302  19.708133  15.599320"
      ]
     },
     "metadata": {},
     "output_type": "display_data"
    },
    {
     "name": "stdout",
     "output_type": "stream",
     "text": [
      "--------------------------------------------------\n",
      "Chi2: 97.34617134565939\n",
      "P-value: 5.781513197287742e-21\n",
      "Degrees of Freedom: 3\n",
      "--------------------------------------------------\n",
      "Percentage of cells with expected counts less than 5: 0.00%\n",
      "--------------------------------------------------\n",
      "Residuals:\n"
     ]
    },
    {
     "data": {
      "text/html": [
       "<div>\n",
       "<style scoped>\n",
       "    .dataframe tbody tr th:only-of-type {\n",
       "        vertical-align: middle;\n",
       "    }\n",
       "\n",
       "    .dataframe tbody tr th {\n",
       "        vertical-align: top;\n",
       "    }\n",
       "\n",
       "    .dataframe thead th {\n",
       "        text-align: right;\n",
       "    }\n",
       "</style>\n",
       "<table border=\"1\" class=\"dataframe\">\n",
       "  <thead>\n",
       "    <tr style=\"text-align: right;\">\n",
       "      <th>time_slot</th>\n",
       "      <th>Afternoon</th>\n",
       "      <th>Evening</th>\n",
       "      <th>Morning</th>\n",
       "      <th>Night</th>\n",
       "    </tr>\n",
       "    <tr>\n",
       "      <th>converted</th>\n",
       "      <th></th>\n",
       "      <th></th>\n",
       "      <th></th>\n",
       "      <th></th>\n",
       "    </tr>\n",
       "  </thead>\n",
       "  <tbody>\n",
       "    <tr>\n",
       "      <th>False</th>\n",
       "      <td>-168.476931</td>\n",
       "      <td>-167.675949</td>\n",
       "      <td>340.952694</td>\n",
       "      <td>-4.799814</td>\n",
       "    </tr>\n",
       "    <tr>\n",
       "      <th>True</th>\n",
       "      <td>168.476931</td>\n",
       "      <td>167.675949</td>\n",
       "      <td>-340.952694</td>\n",
       "      <td>4.799814</td>\n",
       "    </tr>\n",
       "  </tbody>\n",
       "</table>\n",
       "</div>"
      ],
      "text/plain": [
       "time_slot   Afternoon     Evening     Morning     Night\n",
       "converted                                              \n",
       "False     -168.476931 -167.675949  340.952694 -4.799814\n",
       "True       168.476931  167.675949 -340.952694  4.799814"
      ]
     },
     "metadata": {},
     "output_type": "display_data"
    },
    {
     "name": "stdout",
     "output_type": "stream",
     "text": [
      "--------------------------------------------------\n",
      "Cramér's V: 0.013540231246510952\n"
     ]
    }
   ],
   "source": [
    "#Let us make our contingency table first\n",
    "\n",
    "ct = pd.crosstab(df_outliers_clean['converted'],df_outliers_clean['time_slot'] )\n",
    "print(\"Contingency Table with Frequencies:\")\n",
    "display(ct)\n",
    "print(\"-\"*50)\n",
    "\n",
    "# Row Percentage\n",
    "row_percentages = ct.div(ct.sum(axis=1), axis=0) * 100\n",
    "print(\"Contingency Table with Row Percentages:\")\n",
    "display(row_percentages)\n",
    "print(\"-\"*50)   \n",
    "\n",
    "# Chi-Square Test\n",
    "chi2, p, dof, expected = stats.chi2_contingency(ct)\n",
    "print(f\"Chi2: {chi2}\")\n",
    "print(f\"P-value: {p}\")\n",
    "print(f\"Degrees of Freedom: {dof}\")\n",
    "print(\"-\"*50)\n",
    "\n",
    "# Calculate the percentage of cells with expected counts less than 5\n",
    "percentage_low_expected = (expected < 5).sum().sum() / (expected.shape[0] * expected.shape[1]) * 100\n",
    "print(f\"Percentage of cells with expected counts less than 5: {percentage_low_expected:.2f}%\")\n",
    "print(\"-\"*50)\n",
    "#If there are cells with expected counts less than 5, it indicates that there are not enough observations to reliably estimate the statistical significance of the association between the variables.\n",
    "#This can lead to a higher likelihood of Type I errors (incorrectly rejecting the null hypothesis) or Type II errors (failing to reject the null hypothesis when it should be rejected).\n",
    "\n",
    "# Residuals: Calculates the magnitude and direction of the strength of association\n",
    "# Interpretation:\n",
    "# Positive Residuals: A positive value indicates that the observed count is higher than the expected count. This suggests that there may be a stronger association than expected between the categories.\n",
    "# Negative Residuals: A negative value indicates that the observed count is lower than the expected count. This suggests a weaker association than expected.\n",
    "residuals = ct - expected\n",
    "print(\"Residuals:\")\n",
    "display(residuals)\n",
    "print(\"-\"*50)\n",
    "\n",
    "# Calculate Cramér's V\n",
    "n = ct.sum().sum()  # Total number of observations\n",
    "min_dim = min(ct.shape) - 1  # Minimum dimension minus 1\n",
    "cramers_v = np.sqrt(chi2 / (n * min_dim))  # Cramér's V calculation\n",
    "print(f\"Cramér's V: {cramers_v}\")"
   ]
  },
  {
   "cell_type": "markdown",
   "metadata": {},
   "source": [
    "Conclusion\n",
    "<li>There is a association between the time slot and the conversion likelihood. However, cramer's V suggest that this association is relatively weak.\n",
    "<li> Users tend to convert at afternoon than night, and they don't convert more at afternoon and at night as well.\n",
    "<li> Lastly, users convert at evening more than expected whereas user does not convert more than expected at morning.\n",
    "<li> <b>Afternoon</b> seems to be the most effective timeslot for conversion, while the <b>Morning</b> shows more non-conversion than expected."
   ]
  },
  {
   "cell_type": "markdown",
   "metadata": {},
   "source": [
    "## Test group"
   ]
  },
  {
   "cell_type": "code",
   "execution_count": 135,
   "metadata": {},
   "outputs": [
    {
     "name": "stdout",
     "output_type": "stream",
     "text": [
      "Contingency Table with Frequencies:\n"
     ]
    },
    {
     "data": {
      "text/html": [
       "<div>\n",
       "<style scoped>\n",
       "    .dataframe tbody tr th:only-of-type {\n",
       "        vertical-align: middle;\n",
       "    }\n",
       "\n",
       "    .dataframe tbody tr th {\n",
       "        vertical-align: top;\n",
       "    }\n",
       "\n",
       "    .dataframe thead th {\n",
       "        text-align: right;\n",
       "    }\n",
       "</style>\n",
       "<table border=\"1\" class=\"dataframe\">\n",
       "  <thead>\n",
       "    <tr style=\"text-align: right;\">\n",
       "      <th>test group</th>\n",
       "      <th>ad</th>\n",
       "      <th>psa</th>\n",
       "    </tr>\n",
       "    <tr>\n",
       "      <th>converted</th>\n",
       "      <th></th>\n",
       "      <th></th>\n",
       "    </tr>\n",
       "  </thead>\n",
       "  <tbody>\n",
       "    <tr>\n",
       "      <th>False</th>\n",
       "      <td>503015</td>\n",
       "      <td>20893</td>\n",
       "    </tr>\n",
       "    <tr>\n",
       "      <th>True</th>\n",
       "      <td>6832</td>\n",
       "      <td>226</td>\n",
       "    </tr>\n",
       "  </tbody>\n",
       "</table>\n",
       "</div>"
      ],
      "text/plain": [
       "test group      ad    psa\n",
       "converted                \n",
       "False       503015  20893\n",
       "True          6832    226"
      ]
     },
     "metadata": {},
     "output_type": "display_data"
    },
    {
     "name": "stdout",
     "output_type": "stream",
     "text": [
      "--------------------------------------------------\n",
      "Contingency Table with Row Percentages:\n"
     ]
    },
    {
     "data": {
      "text/html": [
       "<div>\n",
       "<style scoped>\n",
       "    .dataframe tbody tr th:only-of-type {\n",
       "        vertical-align: middle;\n",
       "    }\n",
       "\n",
       "    .dataframe tbody tr th {\n",
       "        vertical-align: top;\n",
       "    }\n",
       "\n",
       "    .dataframe thead th {\n",
       "        text-align: right;\n",
       "    }\n",
       "</style>\n",
       "<table border=\"1\" class=\"dataframe\">\n",
       "  <thead>\n",
       "    <tr style=\"text-align: right;\">\n",
       "      <th>test group</th>\n",
       "      <th>ad</th>\n",
       "      <th>psa</th>\n",
       "    </tr>\n",
       "    <tr>\n",
       "      <th>converted</th>\n",
       "      <th></th>\n",
       "      <th></th>\n",
       "    </tr>\n",
       "  </thead>\n",
       "  <tbody>\n",
       "    <tr>\n",
       "      <th>False</th>\n",
       "      <td>96.012086</td>\n",
       "      <td>3.987914</td>\n",
       "    </tr>\n",
       "    <tr>\n",
       "      <th>True</th>\n",
       "      <td>96.797960</td>\n",
       "      <td>3.202040</td>\n",
       "    </tr>\n",
       "  </tbody>\n",
       "</table>\n",
       "</div>"
      ],
      "text/plain": [
       "test group         ad       psa\n",
       "converted                      \n",
       "False       96.012086  3.987914\n",
       "True        96.797960  3.202040"
      ]
     },
     "metadata": {},
     "output_type": "display_data"
    },
    {
     "name": "stdout",
     "output_type": "stream",
     "text": [
      "--------------------------------------------------\n",
      "Chi2: 11.056659044570122\n",
      "P-value: 0.0008836923618084476\n",
      "Degrees of Freedom: 1\n",
      "--------------------------------------------------\n",
      "Percentage of cells with expected counts less than 5: 0.00%\n",
      "--------------------------------------------------\n",
      "Residuals:\n"
     ]
    },
    {
     "data": {
      "text/html": [
       "<div>\n",
       "<style scoped>\n",
       "    .dataframe tbody tr th:only-of-type {\n",
       "        vertical-align: middle;\n",
       "    }\n",
       "\n",
       "    .dataframe tbody tr th {\n",
       "        vertical-align: top;\n",
       "    }\n",
       "\n",
       "    .dataframe thead th {\n",
       "        text-align: right;\n",
       "    }\n",
       "</style>\n",
       "<table border=\"1\" class=\"dataframe\">\n",
       "  <thead>\n",
       "    <tr style=\"text-align: right;\">\n",
       "      <th>test group</th>\n",
       "      <th>ad</th>\n",
       "      <th>psa</th>\n",
       "    </tr>\n",
       "    <tr>\n",
       "      <th>converted</th>\n",
       "      <th></th>\n",
       "      <th></th>\n",
       "    </tr>\n",
       "  </thead>\n",
       "  <tbody>\n",
       "    <tr>\n",
       "      <th>False</th>\n",
       "      <td>-54.729655</td>\n",
       "      <td>54.729655</td>\n",
       "    </tr>\n",
       "    <tr>\n",
       "      <th>True</th>\n",
       "      <td>54.729655</td>\n",
       "      <td>-54.729655</td>\n",
       "    </tr>\n",
       "  </tbody>\n",
       "</table>\n",
       "</div>"
      ],
      "text/plain": [
       "test group         ad        psa\n",
       "converted                       \n",
       "False      -54.729655  54.729655\n",
       "True        54.729655 -54.729655"
      ]
     },
     "metadata": {},
     "output_type": "display_data"
    },
    {
     "name": "stdout",
     "output_type": "stream",
     "text": [
      "--------------------------------------------------\n",
      "Cramér's V: 0.004563295602894607\n"
     ]
    }
   ],
   "source": [
    "#Let us make our contingency table first\n",
    "\n",
    "ct = pd.crosstab(df_outliers_clean['converted'],df_outliers_clean['test group'] )\n",
    "print(\"Contingency Table with Frequencies:\")\n",
    "display(ct)\n",
    "print(\"-\"*50)\n",
    "\n",
    "# Row Percentage\n",
    "row_percentages = ct.div(ct.sum(axis=1), axis=0) * 100\n",
    "print(\"Contingency Table with Row Percentages:\")\n",
    "display(row_percentages)\n",
    "print(\"-\"*50)   \n",
    "\n",
    "# Chi-Square Test\n",
    "chi2, p, dof, expected = stats.chi2_contingency(ct)\n",
    "print(f\"Chi2: {chi2}\")\n",
    "print(f\"P-value: {p}\")\n",
    "print(f\"Degrees of Freedom: {dof}\")\n",
    "print(\"-\"*50)\n",
    "\n",
    "# Calculate the percentage of cells with expected counts less than 5\n",
    "percentage_low_expected = (expected < 5).sum().sum() / (expected.shape[0] * expected.shape[1]) * 100\n",
    "print(f\"Percentage of cells with expected counts less than 5: {percentage_low_expected:.2f}%\")\n",
    "print(\"-\"*50)\n",
    "#If there are cells with expected counts less than 5, it indicates that there are not enough observations to reliably estimate the statistical significance of the association between the variables.\n",
    "#This can lead to a higher likelihood of Type I errors (incorrectly rejecting the null hypothesis) or Type II errors (failing to reject the null hypothesis when it should be rejected).\n",
    "\n",
    "# Residuals: Calculates the magnitude and direction of the strength of association\n",
    "# Interpretation:\n",
    "# Positive Residuals: A positive value indicates that the observed count is higher than the expected count. This suggests that there may be a stronger association than expected between the categories.\n",
    "# Negative Residuals: A negative value indicates that the observed count is lower than the expected count. This suggests a weaker association than expected.\n",
    "residuals = ct - expected\n",
    "print(\"Residuals:\")\n",
    "display(residuals)\n",
    "print(\"-\"*50)\n",
    "\n",
    "# Calculate Cramér's V\n",
    "n = ct.sum().sum()  # Total number of observations\n",
    "min_dim = min(ct.shape) - 1  # Minimum dimension minus 1\n",
    "cramers_v = np.sqrt(chi2 / (n * min_dim))  # Cramér's V calculation\n",
    "print(f\"Cramér's V: {cramers_v}\")"
   ]
  },
  {
   "cell_type": "markdown",
   "metadata": {},
   "source": [
    "Conclusion\n",
    "<li>There is a association between the test group and the conversion likelihood. However, cramer's V suggest that this association is extremely weak.\n",
    "<li> user tends to convert more when looking at ads than psa\n",
    "<li> psa is underperforming than ads when comes to conversion rate"
   ]
  },
  {
   "cell_type": "code",
   "execution_count": 137,
   "metadata": {},
   "outputs": [
    {
     "data": {
      "image/png": "[encoded data removed]",
      "text/plain": [
       "<Figure size 1200x600 with 2 Axes>"
      ]
     },
     "metadata": {},
     "output_type": "display_data"
    }
   ],
   "source": [
    "import matplotlib.pyplot as plt\n",
    "\n",
    "# Data for 'ad' and 'psa' groups\n",
    "labels = ['Not Converted', 'Converted']\n",
    "sizes_ad = [503015,20893]  # False, True counts for 'ad'\n",
    "sizes_psa = [6832,226]    # False, True counts for 'psa']\n",
    "colors = ['#ff9999', '#66b3ff']\n",
    "explode = (0.1, 0)  # explode 1st slice (Not Converted)\n",
    "\n",
    "# Create subplots for side-by-side pie charts\n",
    "fig, axes = plt.subplots(1, 2, figsize=(12, 6))\n",
    "\n",
    "# Pie chart for 'ad' group\n",
    "axes[0].pie(sizes_ad, explode=explode, labels=labels, colors=colors, autopct='%1.1f%%', startangle=140)\n",
    "axes[0].set_title('Conversion Status in Ad Group')\n",
    "axes[0].axis('equal')  # Equal aspect ratio ensures the pie is drawn as a circle.\n",
    "\n",
    "# Pie chart for 'psa' group\n",
    "axes[1].pie(sizes_psa, explode=explode, labels=labels, colors=colors, autopct='%1.1f%%', startangle=140)\n",
    "axes[1].set_title('Conversion Status in PSA Group')\n",
    "axes[1].axis('equal')  # Equal aspect ratio ensures the pie is drawn as a circle.\n",
    "\n",
    "# Display both pie charts\n",
    "plt.tight_layout()\n",
    "plt.show()"
   ]
  },
  {
   "cell_type": "code",
   "execution_count": 141,
   "metadata": {},
   "outputs": [
    {
     "name": "stdout",
     "output_type": "stream",
     "text": [
      "shapiro-wilk test for normality (True group): p-value=2.8063383955493814e-40\n",
      "shapiro-wilk test for normality (False group): p-value=0.0\n",
      "Levene test statistics1198.8288633975717\n",
      "Levene test for equality of variances: p-value=2.1565038632220888e-262\n",
      "----------------------------------------------------------------------------------------------------\n",
      "The data is not normally distributed\n",
      "The variance is not equal\n"
     ]
    }
   ],
   "source": [
    "from scipy.stats import ttest_ind, shapiro, levene,mannwhitneyu\n",
    "\n",
    "# Assuming df_outliers_clean is already defined\n",
    "\n",
    "# Create a new DataFrame to store conversion counts by day\n",
    "shapiro_stat_true, shapiro_p_value_true = shapiro(df_outliers_clean[df_outliers_clean['converted']==1]['total ads'])\n",
    "shapiro_stat_false, shapiro_p_value_false = shapiro(df_outliers_clean[df_outliers_clean['converted']==0]['total ads'])\n",
    "print(f\"shapiro-wilk test for normality (True group): p-value={shapiro_p_value_true}\")\n",
    "print(f\"shapiro-wilk test for normality (False group): p-value={shapiro_p_value_false}\")\n",
    "\n",
    "levene_stat, levene_p_value = levene(df_outliers_clean[df_outliers_clean['converted']]['total ads'], df_outliers_clean[~df_outliers_clean['converted']]['total ads'])\n",
    "print(f\"Levene test statistics{levene_stat}\")\n",
    "print(f\"Levene test for equality of variances: p-value={levene_p_value}\")\n",
    "print(\"-\"*100)\n",
    "\n",
    "if shapiro_p_value_true > 0.05 and shapiro_p_value_false > 0.05:\n",
    "    print(\"The data is normally distributed\")\n",
    "else:\n",
    "    print(\"The data is not normally distributed\")\n",
    "\n",
    "if levene_p_value < 0.05:\n",
    "    print(\"The variance is not equal\")\n",
    "else:\n",
    "    print(\"The variance is equal\")"
   ]
  },
  {
   "cell_type": "code",
   "execution_count": 148,
   "metadata": {},
   "outputs": [
    {
     "name": "stdout",
     "output_type": "stream",
     "text": [
      "Man-whitney U test: U-statistics=2942795128.5\n",
      "Mann-whitney U test: p-value =0.0\n"
     ]
    }
   ],
   "source": [
    "u_stat, u_p_value = mannwhitneyu(df_outliers_clean[df_outliers_clean['converted']]['total ads'], df_outliers_clean[~df_outliers_clean['converted']]['total ads'])\n",
    "print(f\"Man-whitney U test: U-statistics={u_stat}\")\n",
    "print(f\"Mann-whitney U test: p-value ={u_p_value}\")"
   ]
  },
  {
   "cell_type": "code",
   "execution_count": 147,
   "metadata": {},
   "outputs": [
    {
     "name": "stdout",
     "output_type": "stream",
     "text": [
      "Rank-biserial correlation (effect size) = -0.5916711333917746\n"
     ]
    }
   ],
   "source": [
    "# Calculate effect size for Mann-Whitney U test\n",
    "n1 = len(df_outliers_clean[df_outliers_clean['converted']]['total ads'])\n",
    "n2 = len(df_outliers_clean[~df_outliers_clean['converted']]['total ads'])\n",
    "u = u_stat\n",
    "rank_biserial = 1 - (2 * u) / (n1 * n2)\n",
    "print(f\"Rank-biserial correlation (effect size) = {rank_biserial}\")"
   ]
  },
  {
   "cell_type": "markdown",
   "metadata": {},
   "source": [
    "Strong inverse relationship between conversion and total ads: users who did not convert saw more ads than those who converted."
   ]
  },
  {
   "cell_type": "markdown",
   "metadata": {},
   "source": [
    "## A/B Test the equality of proportions hypothesis: psa and ads"
   ]
  },
  {
   "cell_type": "code",
   "execution_count": 155,
   "metadata": {},
   "outputs": [
    {
     "data": {
      "text/html": [
       "<div>\n",
       "<style scoped>\n",
       "    .dataframe tbody tr th:only-of-type {\n",
       "        vertical-align: middle;\n",
       "    }\n",
       "\n",
       "    .dataframe tbody tr th {\n",
       "        vertical-align: top;\n",
       "    }\n",
       "\n",
       "    .dataframe thead th {\n",
       "        text-align: right;\n",
       "    }\n",
       "</style>\n",
       "<table border=\"1\" class=\"dataframe\">\n",
       "  <thead>\n",
       "    <tr style=\"text-align: right;\">\n",
       "      <th>converted</th>\n",
       "      <th>False</th>\n",
       "      <th>True</th>\n",
       "    </tr>\n",
       "    <tr>\n",
       "      <th>test group</th>\n",
       "      <th></th>\n",
       "      <th></th>\n",
       "    </tr>\n",
       "  </thead>\n",
       "  <tbody>\n",
       "    <tr>\n",
       "      <th>ad</th>\n",
       "      <td>0.986600</td>\n",
       "      <td>0.013400</td>\n",
       "    </tr>\n",
       "    <tr>\n",
       "      <th>psa</th>\n",
       "      <td>0.989299</td>\n",
       "      <td>0.010701</td>\n",
       "    </tr>\n",
       "  </tbody>\n",
       "</table>\n",
       "</div>"
      ],
      "text/plain": [
       "converted      False      True\n",
       "test group                    \n",
       "ad          0.986600  0.013400\n",
       "psa         0.989299  0.010701"
      ]
     },
     "execution_count": 155,
     "metadata": {},
     "output_type": "execute_result"
    }
   ],
   "source": [
    "cross_tab = pd.crosstab(df_outliers_clean['test group'],df_outliers_clean['converted'], normalize='index')\n",
    "cross_tab"
   ]
  },
  {
   "cell_type": "markdown",
   "metadata": {},
   "source": [
    "<b> Define null and alternative hypothesis\n",
    "- H0: there is no difference in the conversion rate between the test groups\n",
    "- H1: there is a difference in the version rates between the test group and the control group"
   ]
  },
  {
   "cell_type": "markdown",
   "metadata": {},
   "source": [
    "<b> Set the probability of type I and type II errors </b>\n",
    "<li> we set : a = 0.05 and b = 0.2 </li>"
   ]
  },
  {
   "cell_type": "markdown",
   "metadata": {},
   "source": [
    "<b> Calculate the sample size </b>\n",
    "<br>\n",
    "Based on the provided conversion data, we have the conversion rates for two groups in an A/B test: one group that saw the advertisement (\"ad\") and another that saw a public service announcement (\"psa\"). The conversion rates are calculated as follows:\n",
    "<br>\n",
    "<b>Ad group: conversion rate: 1.34%</b>\n",
    "<br>\n",
    "<b>PSA group: conversion rate: 1.07%</b>"
   ]
  },
  {
   "cell_type": "markdown",
   "metadata": {},
   "source": [
    "Let us find our required sample size:"
   ]
  },
  {
   "cell_type": "code",
   "execution_count": 27,
   "metadata": {},
   "outputs": [
    {
     "name": "stdout",
     "output_type": "stream",
     "text": [
      "Required sample size per group: 25654\n",
      "The required sample size is within the available population size.\n"
     ]
    }
   ],
   "source": [
    "from statsmodels.stats.power import NormalIndPower\n",
    "\n",
    "# Parameters\n",
    "alpha = 0.05  # Significance level\n",
    "power = 0.8   # Power (1-b)\n",
    "p1 = 0.010701  # Conversion rate for control group (psa)\n",
    "p2 = 0.013400  # Conversion rate for test group (ad)\n",
    "\n",
    "# Calculate the average conversion rate\n",
    "p = (p1 + p2) / 2\n",
    "\n",
    "# Calculate the effect size\n",
    "effect_size = (p2 - p1) / ((p * (1 - p)) ** 0.5)\n",
    "\n",
    "# Calculate the sample size per group\n",
    "power_analysis = NormalIndPower()\n",
    "sample_size = power_analysis.solve_power(effect_size=effect_size, power=power, alpha=alpha, ratio=1)\n",
    "\n",
    "print(f\"Required sample size per group: {int(sample_size)}\")\n",
    "\n",
    "available_population = len(df_outliers_clean)\n",
    "\n",
    "if sample_size > available_population:\n",
    "    print(\"Warning: Required sample size exceeds available population size.\")\n",
    "    \n",
    "    # Apply Finite Population Correction (FPC)\n",
    "    n_adjusted = sample_size * (available_population - 1) / (sample_size + available_population - 1)\n",
    "    print(f\"Adjusted sample size per group (FPC applied): {int(n_adjusted)}\")\n",
    "else:\n",
    "    print(\"The required sample size is within the available population size.\")"
   ]
  },
  {
   "cell_type": "markdown",
   "metadata": {},
   "source": [
    "Choose samples"
   ]
  },
  {
   "cell_type": "code",
   "execution_count": 26,
   "metadata": {},
   "outputs": [
    {
     "name": "stdout",
     "output_type": "stream",
     "text": [
      "psa sample size: (21119, 5)\n",
      "ad sample size: (25654, 5)\n"
     ]
    }
   ],
   "source": [
    "def choose_random_sample(data, sample_size, random_state=42):\n",
    "    # Check the size of the group\n",
    "    group_size = len(data)\n",
    "\n",
    "    # Set sample size to the minimum of requested sample size and group size\n",
    "    adjusted_sample_size = min(int(sample_size), group_size)\n",
    "\n",
    "    return data.sample(n=adjusted_sample_size, random_state=random_state)\n",
    "\n",
    "# Apply the function to each group using groupby\n",
    "df_smpl = df_outliers_clean.groupby('test group', group_keys=False).apply(lambda x: choose_random_sample(x, sample_size))\n",
    "\n",
    "df_psa= df_smpl[df_smpl['test group'] == 'psa']\n",
    "df_ad= df_smpl[df_smpl['test group'] == 'ad']\n",
    "print(f\"psa sample size: {df_psa.shape}\")\n",
    "print(f\"ad sample size: {df_ad.shape}\")"
   ]
  },
  {
   "cell_type": "code",
   "execution_count": 20,
   "metadata": {},
   "outputs": [
    {
     "data": {
      "image/png": "[encoded data removed]",
      "text/plain": [
       "<Figure size 800x500 with 1 Axes>"
      ]
     },
     "metadata": {},
     "output_type": "display_data"
    }
   ],
   "source": [
    "fig, ax = plt.subplots(figsize=(8, 5))\n",
    "\n",
    "sns.countplot(data=df_outliers_clean, x='test group', hue='converted', ax=ax)\n",
    "\n",
    "plt.show()"
   ]
  },
  {
   "cell_type": "code",
   "execution_count": 15,
   "metadata": {},
   "outputs": [
    {
     "name": "stdout",
     "output_type": "stream",
     "text": [
      "Contingency Table with Frequencies:\n",
      "converted   False  True\n",
      "test group             \n",
      "ad          25315   339\n",
      "psa         20893   226\n",
      "############################################################\n",
      "\n",
      "Row Percentages:\n",
      "converted       False      True\n",
      "test group                     \n",
      "ad          98.678569  1.321431\n",
      "psa         98.929874  1.070126\n",
      "############################################################\n",
      "Z-statistic: 2.4758825048245057\n",
      "P-value: 0.006645365441133906\n",
      "Reject the null hypothesis. There is a significant difference in proportions.\n"
     ]
    }
   ],
   "source": [
    "import pandas as pd\n",
    "import statsmodels.api as sm\n",
    "\n",
    "# Create the contingency table\n",
    "contingency_table_Z = pd.crosstab(df_smpl['test group'], df_smpl['converted'])\n",
    "\n",
    "\n",
    "print(\"Contingency Table with Frequencies:\")\n",
    "print(contingency_table_Z)\n",
    "print(\"#\"*60)\n",
    "\n",
    "# Calculate row percentages\n",
    "row_percentages = contingency_table_Z.div(contingency_table_Z.sum(axis=1), axis=0) * 100\n",
    "\n",
    "print(\"\\nRow Percentages:\")\n",
    "print(row_percentages)\n",
    "print(\"#\"*60) \n",
    "\n",
    "# Count the number of successes and trials in each group\n",
    "success_ad = contingency_table_Z.loc['ad', True]\n",
    "trials_ad = contingency_table_Z.loc['ad', False] + contingency_table_Z.loc['ad', True]\n",
    "\n",
    "success_psa = contingency_table_Z.loc['psa', True]\n",
    "trials_psa = contingency_table_Z.loc['psa', False] + contingency_table_Z.loc['psa', True]\n",
    "\n",
    "# Perform the z-test for proportions\n",
    "#two-sample z test\n",
    "#o compare the specific success rates (conversion rates) of two groups\n",
    "z_stat, p_value = sm.stats.proportions_ztest(\n",
    "    [success_ad, success_psa], \n",
    "    [trials_ad, trials_psa], \n",
    "    alternative='larger'\n",
    ")\n",
    "\n",
    "# Print the results\n",
    "print(f\"Z-statistic: {z_stat}\")\n",
    "print(f\"P-value: {p_value}\")\n",
    "\n",
    "# Interpret the results\n",
    "alpha = 0.05\n",
    "if p_value < alpha:\n",
    "    print(\"Reject the null hypothesis. There is a significant difference in proportions.\")\n",
    "else:\n",
    "    print(\"Fail to reject the null hypothesis. Proportions are not significantly different.\")"
   ]
  },
  {
   "cell_type": "markdown",
   "metadata": {},
   "source": [
    "- A higher Z-statistic (positive) suggests that the first group (success_ad) has a higher proportion compared to the second group (success_psa).\n",
    "- This indicates that there is a statistically significant difference in the proportions of conversions between the ad group and the PSA group. The difference in the proportions is not due to random chance."
   ]
  },
  {
   "cell_type": "code",
   "execution_count": 196,
   "metadata": {},
   "outputs": [
    {
     "data": {
      "image/png": "[encoded data removed]",
      "text/plain": [
       "<Figure size 640x480 with 1 Axes>"
      ]
     },
     "metadata": {},
     "output_type": "display_data"
    }
   ],
   "source": [
    "# Data from the contingency table\n",
    "groups = ['ad', 'psa']\n",
    "false_values = [25315, 20893]\n",
    "true_values = [339, 226]\n",
    "\n",
    "# Plot a grouped bar chart\n",
    "bar_width = 0.35\n",
    "index = range(len(groups))\n",
    "\n",
    "plt.bar(index, false_values, bar_width, label='Non-converted', color='blue')\n",
    "plt.bar([i + bar_width for i in index], true_values, bar_width, label='Converted', color='orange')\n",
    "\n",
    "plt.xlabel('Test Group')\n",
    "plt.ylabel('Count')\n",
    "plt.title('Converted vs Non-Converted in Ad and PSA Groups')\n",
    "plt.xticks([i + bar_width / 2 for i in index], groups)\n",
    "plt.legend()\n",
    "plt.show()"
   ]
  },
  {
   "cell_type": "code",
   "execution_count": 197,
   "metadata": {},
   "outputs": [
    {
     "data": {
      "image/png": "[encoded data removed]",
      "text/plain": [
       "<Figure size 640x480 with 1 Axes>"
      ]
     },
     "metadata": {},
     "output_type": "display_data"
    }
   ],
   "source": [
    "# Z-statistic and p-value (from your z-test result)\n",
    "z_stat = 2.4758825048245057\n",
    "p_value = 0.006645365441133906  # From your z-test result\n",
    "alpha = 0.05\n",
    "\n",
    "# Generate data for normal distribution\n",
    "z_values = np.linspace(-4, 4, 1000)\n",
    "y_values = stats.norm.pdf(z_values)\n",
    "\n",
    "# Plot the z-distribution\n",
    "plt.plot(z_values, y_values, label='Standard Normal Distribution')\n",
    "plt.axvline(z_stat, color='red', linestyle='--', label=f'Z-statistic = {z_stat:.2f}')\n",
    "plt.fill_between(z_values, y_values, where=(z_values < stats.norm.ppf(alpha)), color='red', alpha=0.5, label=f'Critical region (α={alpha})')\n",
    "\n",
    "# Add the p-value as text on the plot\n",
    "plt.text(z_stat + 0.2, 0.1, f'p-value = {p_value:.3f}', color='black', fontsize=12)\n",
    "\n",
    "plt.title('Z-Test Distribution with p-value')\n",
    "plt.xlabel('Z-value')\n",
    "plt.ylabel('Probability Density')\n",
    "plt.legend()\n",
    "plt.show()"
   ]
  },
  {
   "cell_type": "code",
   "execution_count": 202,
   "metadata": {},
   "outputs": [
    {
     "data": {
      "text/html": [
       "<div>\n",
       "<style scoped>\n",
       "    .dataframe tbody tr th:only-of-type {\n",
       "        vertical-align: middle;\n",
       "    }\n",
       "\n",
       "    .dataframe tbody tr th {\n",
       "        vertical-align: top;\n",
       "    }\n",
       "\n",
       "    .dataframe thead th {\n",
       "        text-align: right;\n",
       "    }\n",
       "</style>\n",
       "<table border=\"1\" class=\"dataframe\">\n",
       "  <thead>\n",
       "    <tr style=\"text-align: right;\">\n",
       "      <th>converted</th>\n",
       "      <th>False</th>\n",
       "      <th>True</th>\n",
       "    </tr>\n",
       "    <tr>\n",
       "      <th>test group</th>\n",
       "      <th></th>\n",
       "      <th></th>\n",
       "    </tr>\n",
       "  </thead>\n",
       "  <tbody>\n",
       "    <tr>\n",
       "      <th>ad</th>\n",
       "      <td>25315</td>\n",
       "      <td>339</td>\n",
       "    </tr>\n",
       "    <tr>\n",
       "      <th>psa</th>\n",
       "      <td>20893</td>\n",
       "      <td>226</td>\n",
       "    </tr>\n",
       "  </tbody>\n",
       "</table>\n",
       "</div>"
      ],
      "text/plain": [
       "converted   False  True\n",
       "test group             \n",
       "ad          25315   339\n",
       "psa         20893   226"
      ]
     },
     "execution_count": 202,
     "metadata": {},
     "output_type": "execute_result"
    }
   ],
   "source": [
    "contingency_table_Z"
   ]
  },
  {
   "cell_type": "markdown",
   "metadata": {},
   "source": [
    "Odds ratio compares the odds of success between two groups."
   ]
  },
  {
   "cell_type": "code",
   "execution_count": 199,
   "metadata": {},
   "outputs": [
    {
     "name": "stdout",
     "output_type": "stream",
     "text": [
      "Odds Ratio: 0.81\n",
      "95% Confidence Interval: 0.68, 0.96\n"
     ]
    }
   ],
   "source": [
    "def OR_CIs(contingency_table):\n",
    "    \n",
    "    # Calculate odds ratio\n",
    "    odds_ratio = (contingency_table.iloc[0, 0] / contingency_table.iloc[0, 1]) / (contingency_table.iloc[1, 0] / contingency_table.iloc[1, 1])\n",
    "\n",
    "    # Calculate standard error of log(odds ratio)\n",
    "    log_odds_std_error = np.sqrt(contingency_table.applymap(lambda x: 1/x).sum().sum())\n",
    "\n",
    "    # Set confidence level\n",
    "    confidence_level = 0.95\n",
    "\n",
    "    # Calculate z-score for the confidence interval\n",
    "    z_score = norm.ppf(1-(1 - confidence_level) / 2)\n",
    "\n",
    "    # Calculate confidence intervals\n",
    "    ci_low = np.exp(np.log(odds_ratio) - z_score * log_odds_std_error)\n",
    "    ci_high = np.exp(np.log(odds_ratio) + z_score * log_odds_std_error)\n",
    "    \n",
    "    # Print the results\n",
    "    print(f\"Odds Ratio: {odds_ratio:.2f}\")\n",
    "    print(f\"95% Confidence Interval: {ci_low:.2f}, {ci_high:.2f}\")\n",
    "    \n",
    "    return\n",
    "# Calculate the confidence interval for odds ratio\n",
    "OR_CIs(contingency_table_Z)"
   ]
  },
  {
   "cell_type": "code",
   "execution_count": 203,
   "metadata": {},
   "outputs": [
    {
     "data": {
      "image/png": "[encoded data removed]",
      "text/plain": [
       "<Figure size 600x400 with 1 Axes>"
      ]
     },
     "metadata": {},
     "output_type": "display_data"
    }
   ],
   "source": [
    "odds_ratio = 0.81  # This is a placeholder value\n",
    "conf_int = [0.68, 0.96]  # Confidence interval for the odds ratio\n",
    "\n",
    "plt.figure(figsize=(6, 4))\n",
    "plt.errorbar(1, odds_ratio, yerr=[[odds_ratio - conf_int[0]], [conf_int[1] - odds_ratio]], fmt='o', capsize=5, color='blue')\n",
    "plt.axhline(1, linestyle='--', color='red', label='No Effect (OR=1)')\n",
    "plt.title('Odds Ratio with 95% Confidence Interval')\n",
    "plt.ylabel('Odds Ratio')\n",
    "plt.xlim(0.5, 1.5)\n",
    "plt.xticks([])\n",
    "plt.legend()\n",
    "plt.show()"
   ]
  },
  {
   "cell_type": "markdown",
   "metadata": {},
   "source": [
    "<b> Overall Interpretation: </b>\n",
    "<li> There is a statistical significant difference in conversion rates between the ad and psa groups.\n",
    "<li> The conversion rate in ad group is slightly higher than in the PSA group, however the odds ratio suggest that the users exposed to ad have a lower odds of converting than those exposed to PSA.\n",
    "<li> While the ad group had a higher conversion percentage, the odds ratio indicates that users in the PSA group had a better relative chance of converting compared to the ad group, when accounting for odds rather than raw proportions."
   ]
  },
  {
   "cell_type": "markdown",
   "metadata": {},
   "source": []
  }
 ],
 "metadata": {
  "kernelspec": {
   "display_name": "base",
   "language": "python",
   "name": "python3"
  },
  "language_info": {
   "codemirror_mode": {
    "name": "ipython",
    "version": 3
   },
   "file_extension": ".py",
   "mimetype": "text/x-python",
   "name": "python",
   "nbconvert_exporter": "python",
   "pygments_lexer": "ipython3",
   "version": "3.9.13"
  }
 },
 "nbformat": 4,
 "nbformat_minor": 2
}
